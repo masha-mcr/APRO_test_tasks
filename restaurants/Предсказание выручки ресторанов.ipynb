{
 "cells": [
  {
   "cell_type": "code",
   "execution_count": 1,
   "id": "7367045f",
   "metadata": {},
   "outputs": [],
   "source": [
    "import pandas as pd\n",
    "import numpy as np\n",
    "import seaborn as sns"
   ]
  },
  {
   "cell_type": "code",
   "execution_count": 2,
   "id": "f3ac3427",
   "metadata": {},
   "outputs": [],
   "source": [
    "city_data = pd.read_csv('data.csv')\n",
    "cities = pd.read_csv('restaurants.csv')\n",
    "train_data = pd.read_csv('train.csv')\n",
    "test_data = pd.read_csv('test.csv')"
   ]
  },
  {
   "cell_type": "markdown",
   "id": "cad72e6a",
   "metadata": {},
   "source": [
    "# Изучение данных"
   ]
  },
  {
   "cell_type": "code",
   "execution_count": 3,
   "id": "cd28cdef",
   "metadata": {},
   "outputs": [
    {
     "data": {
      "text/html": [
       "<div>\n",
       "<style scoped>\n",
       "    .dataframe tbody tr th:only-of-type {\n",
       "        vertical-align: middle;\n",
       "    }\n",
       "\n",
       "    .dataframe tbody tr th {\n",
       "        vertical-align: top;\n",
       "    }\n",
       "\n",
       "    .dataframe thead th {\n",
       "        text-align: right;\n",
       "    }\n",
       "</style>\n",
       "<table border=\"1\" class=\"dataframe\">\n",
       "  <thead>\n",
       "    <tr style=\"text-align: right;\">\n",
       "      <th></th>\n",
       "      <th>City</th>\n",
       "      <th>Date</th>\n",
       "      <th>Temperature</th>\n",
       "      <th>Fuel_Price</th>\n",
       "      <th>Unemployment</th>\n",
       "      <th>IsHoliday</th>\n",
       "    </tr>\n",
       "  </thead>\n",
       "  <tbody>\n",
       "    <tr>\n",
       "      <th>0</th>\n",
       "      <td>1</td>\n",
       "      <td>05-02-10</td>\n",
       "      <td>42.31</td>\n",
       "      <td>2.572</td>\n",
       "      <td>8.106</td>\n",
       "      <td>False</td>\n",
       "    </tr>\n",
       "    <tr>\n",
       "      <th>1</th>\n",
       "      <td>1</td>\n",
       "      <td>12-02-10</td>\n",
       "      <td>38.51</td>\n",
       "      <td>2.548</td>\n",
       "      <td>8.106</td>\n",
       "      <td>True</td>\n",
       "    </tr>\n",
       "    <tr>\n",
       "      <th>2</th>\n",
       "      <td>1</td>\n",
       "      <td>19-02-10</td>\n",
       "      <td>39.93</td>\n",
       "      <td>2.514</td>\n",
       "      <td>8.106</td>\n",
       "      <td>False</td>\n",
       "    </tr>\n",
       "    <tr>\n",
       "      <th>3</th>\n",
       "      <td>1</td>\n",
       "      <td>26-02-10</td>\n",
       "      <td>46.63</td>\n",
       "      <td>2.561</td>\n",
       "      <td>8.106</td>\n",
       "      <td>False</td>\n",
       "    </tr>\n",
       "    <tr>\n",
       "      <th>4</th>\n",
       "      <td>1</td>\n",
       "      <td>05-03-10</td>\n",
       "      <td>46.50</td>\n",
       "      <td>2.625</td>\n",
       "      <td>8.106</td>\n",
       "      <td>False</td>\n",
       "    </tr>\n",
       "  </tbody>\n",
       "</table>\n",
       "</div>"
      ],
      "text/plain": [
       "   City      Date  Temperature  Fuel_Price  Unemployment  IsHoliday\n",
       "0     1  05-02-10        42.31       2.572         8.106      False\n",
       "1     1  12-02-10        38.51       2.548         8.106       True\n",
       "2     1  19-02-10        39.93       2.514         8.106      False\n",
       "3     1  26-02-10        46.63       2.561         8.106      False\n",
       "4     1  05-03-10        46.50       2.625         8.106      False"
      ]
     },
     "execution_count": 3,
     "metadata": {},
     "output_type": "execute_result"
    }
   ],
   "source": [
    "city_data.head()"
   ]
  },
  {
   "cell_type": "code",
   "execution_count": 4,
   "id": "ce52b83c",
   "metadata": {},
   "outputs": [
    {
     "data": {
      "text/html": [
       "<div>\n",
       "<style scoped>\n",
       "    .dataframe tbody tr th:only-of-type {\n",
       "        vertical-align: middle;\n",
       "    }\n",
       "\n",
       "    .dataframe tbody tr th {\n",
       "        vertical-align: top;\n",
       "    }\n",
       "\n",
       "    .dataframe thead th {\n",
       "        text-align: right;\n",
       "    }\n",
       "</style>\n",
       "<table border=\"1\" class=\"dataframe\">\n",
       "  <thead>\n",
       "    <tr style=\"text-align: right;\">\n",
       "      <th></th>\n",
       "      <th>City</th>\n",
       "      <th>Size</th>\n",
       "    </tr>\n",
       "  </thead>\n",
       "  <tbody>\n",
       "    <tr>\n",
       "      <th>0</th>\n",
       "      <td>1</td>\n",
       "      <td>151315</td>\n",
       "    </tr>\n",
       "    <tr>\n",
       "      <th>1</th>\n",
       "      <td>2</td>\n",
       "      <td>202307</td>\n",
       "    </tr>\n",
       "    <tr>\n",
       "      <th>2</th>\n",
       "      <td>3</td>\n",
       "      <td>37392</td>\n",
       "    </tr>\n",
       "    <tr>\n",
       "      <th>3</th>\n",
       "      <td>4</td>\n",
       "      <td>205863</td>\n",
       "    </tr>\n",
       "    <tr>\n",
       "      <th>4</th>\n",
       "      <td>5</td>\n",
       "      <td>34875</td>\n",
       "    </tr>\n",
       "  </tbody>\n",
       "</table>\n",
       "</div>"
      ],
      "text/plain": [
       "   City    Size\n",
       "0     1  151315\n",
       "1     2  202307\n",
       "2     3   37392\n",
       "3     4  205863\n",
       "4     5   34875"
      ]
     },
     "execution_count": 4,
     "metadata": {},
     "output_type": "execute_result"
    }
   ],
   "source": [
    "cities.head()"
   ]
  },
  {
   "cell_type": "code",
   "execution_count": 5,
   "id": "ab7abdbb",
   "metadata": {},
   "outputs": [
    {
     "data": {
      "text/html": [
       "<div>\n",
       "<style scoped>\n",
       "    .dataframe tbody tr th:only-of-type {\n",
       "        vertical-align: middle;\n",
       "    }\n",
       "\n",
       "    .dataframe tbody tr th {\n",
       "        vertical-align: top;\n",
       "    }\n",
       "\n",
       "    .dataframe thead th {\n",
       "        text-align: right;\n",
       "    }\n",
       "</style>\n",
       "<table border=\"1\" class=\"dataframe\">\n",
       "  <thead>\n",
       "    <tr style=\"text-align: right;\">\n",
       "      <th></th>\n",
       "      <th>City</th>\n",
       "      <th>Restaurant</th>\n",
       "      <th>Date</th>\n",
       "      <th>Weekly_Sales</th>\n",
       "      <th>IsHoliday</th>\n",
       "    </tr>\n",
       "  </thead>\n",
       "  <tbody>\n",
       "    <tr>\n",
       "      <th>0</th>\n",
       "      <td>1</td>\n",
       "      <td>1</td>\n",
       "      <td>05-02-10</td>\n",
       "      <td>24924.50</td>\n",
       "      <td>False</td>\n",
       "    </tr>\n",
       "    <tr>\n",
       "      <th>1</th>\n",
       "      <td>1</td>\n",
       "      <td>1</td>\n",
       "      <td>12-02-10</td>\n",
       "      <td>46039.49</td>\n",
       "      <td>True</td>\n",
       "    </tr>\n",
       "    <tr>\n",
       "      <th>2</th>\n",
       "      <td>1</td>\n",
       "      <td>1</td>\n",
       "      <td>19-02-10</td>\n",
       "      <td>41595.55</td>\n",
       "      <td>False</td>\n",
       "    </tr>\n",
       "    <tr>\n",
       "      <th>3</th>\n",
       "      <td>1</td>\n",
       "      <td>1</td>\n",
       "      <td>26-02-10</td>\n",
       "      <td>19403.54</td>\n",
       "      <td>False</td>\n",
       "    </tr>\n",
       "    <tr>\n",
       "      <th>4</th>\n",
       "      <td>1</td>\n",
       "      <td>1</td>\n",
       "      <td>05-03-10</td>\n",
       "      <td>21827.90</td>\n",
       "      <td>False</td>\n",
       "    </tr>\n",
       "  </tbody>\n",
       "</table>\n",
       "</div>"
      ],
      "text/plain": [
       "   City  Restaurant      Date  Weekly_Sales  IsHoliday\n",
       "0     1           1  05-02-10      24924.50      False\n",
       "1     1           1  12-02-10      46039.49       True\n",
       "2     1           1  19-02-10      41595.55      False\n",
       "3     1           1  26-02-10      19403.54      False\n",
       "4     1           1  05-03-10      21827.90      False"
      ]
     },
     "execution_count": 5,
     "metadata": {},
     "output_type": "execute_result"
    }
   ],
   "source": [
    "train_data.head()"
   ]
  },
  {
   "cell_type": "markdown",
   "id": "9996c57d",
   "metadata": {},
   "source": [
    "Объединю данные, чтобы вся информация была в одном датасете."
   ]
  },
  {
   "cell_type": "code",
   "execution_count": 6,
   "id": "d667fa11",
   "metadata": {},
   "outputs": [],
   "source": [
    "city_joined = city_data.join(cities.set_index('City'), on='City')\n",
    "\n",
    "train = train_data.join(city_joined.set_index(['City','Date']), on=['City','Date'], how='left', rsuffix='_other')\n",
    "train.drop(['IsHoliday_other'], axis=1, inplace=True)\n",
    "\n",
    "#параллельно так же модифицирую тестовые данные\n",
    "test = test_data.join(city_joined.set_index(['City','Date']), on=['City','Date'], how='left', rsuffix='_other')\n",
    "test.drop(['IsHoliday_other'], axis=1, inplace=True)"
   ]
  },
  {
   "cell_type": "code",
   "execution_count": 7,
   "id": "e1366519",
   "metadata": {},
   "outputs": [
    {
     "data": {
      "text/html": [
       "<div>\n",
       "<style scoped>\n",
       "    .dataframe tbody tr th:only-of-type {\n",
       "        vertical-align: middle;\n",
       "    }\n",
       "\n",
       "    .dataframe tbody tr th {\n",
       "        vertical-align: top;\n",
       "    }\n",
       "\n",
       "    .dataframe thead th {\n",
       "        text-align: right;\n",
       "    }\n",
       "</style>\n",
       "<table border=\"1\" class=\"dataframe\">\n",
       "  <thead>\n",
       "    <tr style=\"text-align: right;\">\n",
       "      <th></th>\n",
       "      <th>City</th>\n",
       "      <th>Restaurant</th>\n",
       "      <th>Date</th>\n",
       "      <th>Weekly_Sales</th>\n",
       "      <th>IsHoliday</th>\n",
       "      <th>Temperature</th>\n",
       "      <th>Fuel_Price</th>\n",
       "      <th>Unemployment</th>\n",
       "      <th>Size</th>\n",
       "    </tr>\n",
       "  </thead>\n",
       "  <tbody>\n",
       "    <tr>\n",
       "      <th>0</th>\n",
       "      <td>1</td>\n",
       "      <td>1</td>\n",
       "      <td>05-02-10</td>\n",
       "      <td>24924.50</td>\n",
       "      <td>False</td>\n",
       "      <td>42.31</td>\n",
       "      <td>2.572</td>\n",
       "      <td>8.106</td>\n",
       "      <td>151315</td>\n",
       "    </tr>\n",
       "    <tr>\n",
       "      <th>1</th>\n",
       "      <td>1</td>\n",
       "      <td>1</td>\n",
       "      <td>12-02-10</td>\n",
       "      <td>46039.49</td>\n",
       "      <td>True</td>\n",
       "      <td>38.51</td>\n",
       "      <td>2.548</td>\n",
       "      <td>8.106</td>\n",
       "      <td>151315</td>\n",
       "    </tr>\n",
       "    <tr>\n",
       "      <th>2</th>\n",
       "      <td>1</td>\n",
       "      <td>1</td>\n",
       "      <td>19-02-10</td>\n",
       "      <td>41595.55</td>\n",
       "      <td>False</td>\n",
       "      <td>39.93</td>\n",
       "      <td>2.514</td>\n",
       "      <td>8.106</td>\n",
       "      <td>151315</td>\n",
       "    </tr>\n",
       "    <tr>\n",
       "      <th>3</th>\n",
       "      <td>1</td>\n",
       "      <td>1</td>\n",
       "      <td>26-02-10</td>\n",
       "      <td>19403.54</td>\n",
       "      <td>False</td>\n",
       "      <td>46.63</td>\n",
       "      <td>2.561</td>\n",
       "      <td>8.106</td>\n",
       "      <td>151315</td>\n",
       "    </tr>\n",
       "    <tr>\n",
       "      <th>4</th>\n",
       "      <td>1</td>\n",
       "      <td>1</td>\n",
       "      <td>05-03-10</td>\n",
       "      <td>21827.90</td>\n",
       "      <td>False</td>\n",
       "      <td>46.50</td>\n",
       "      <td>2.625</td>\n",
       "      <td>8.106</td>\n",
       "      <td>151315</td>\n",
       "    </tr>\n",
       "  </tbody>\n",
       "</table>\n",
       "</div>"
      ],
      "text/plain": [
       "   City  Restaurant      Date  Weekly_Sales  IsHoliday  Temperature  \\\n",
       "0     1           1  05-02-10      24924.50      False        42.31   \n",
       "1     1           1  12-02-10      46039.49       True        38.51   \n",
       "2     1           1  19-02-10      41595.55      False        39.93   \n",
       "3     1           1  26-02-10      19403.54      False        46.63   \n",
       "4     1           1  05-03-10      21827.90      False        46.50   \n",
       "\n",
       "   Fuel_Price  Unemployment    Size  \n",
       "0       2.572         8.106  151315  \n",
       "1       2.548         8.106  151315  \n",
       "2       2.514         8.106  151315  \n",
       "3       2.561         8.106  151315  \n",
       "4       2.625         8.106  151315  "
      ]
     },
     "execution_count": 7,
     "metadata": {},
     "output_type": "execute_result"
    }
   ],
   "source": [
    "train.head()"
   ]
  },
  {
   "cell_type": "code",
   "execution_count": 8,
   "id": "70434929",
   "metadata": {},
   "outputs": [
    {
     "name": "stdout",
     "output_type": "stream",
     "text": [
      "<class 'pandas.core.frame.DataFrame'>\n",
      "RangeIndex: 137938 entries, 0 to 137937\n",
      "Data columns (total 9 columns):\n",
      " #   Column        Non-Null Count   Dtype  \n",
      "---  ------        --------------   -----  \n",
      " 0   City          137938 non-null  int64  \n",
      " 1   Restaurant    137938 non-null  int64  \n",
      " 2   Date          137938 non-null  object \n",
      " 3   Weekly_Sales  137938 non-null  float64\n",
      " 4   IsHoliday     137938 non-null  bool   \n",
      " 5   Temperature   137938 non-null  float64\n",
      " 6   Fuel_Price    137938 non-null  float64\n",
      " 7   Unemployment  137938 non-null  float64\n",
      " 8   Size          137938 non-null  int64  \n",
      "dtypes: bool(1), float64(4), int64(3), object(1)\n",
      "memory usage: 8.6+ MB\n"
     ]
    }
   ],
   "source": [
    "train.info()"
   ]
  },
  {
   "cell_type": "code",
   "execution_count": 9,
   "id": "8183cde5",
   "metadata": {},
   "outputs": [
    {
     "name": "stdout",
     "output_type": "stream",
     "text": [
      "<class 'pandas.core.frame.DataFrame'>\n",
      "RangeIndex: 59611 entries, 0 to 59610\n",
      "Data columns (total 8 columns):\n",
      " #   Column        Non-Null Count  Dtype  \n",
      "---  ------        --------------  -----  \n",
      " 0   City          59611 non-null  int64  \n",
      " 1   Restaurant    59611 non-null  int64  \n",
      " 2   Date          59611 non-null  object \n",
      " 3   IsHoliday     59611 non-null  bool   \n",
      " 4   Temperature   59611 non-null  float64\n",
      " 5   Fuel_Price    59611 non-null  float64\n",
      " 6   Unemployment  59611 non-null  float64\n",
      " 7   Size          59611 non-null  int64  \n",
      "dtypes: bool(1), float64(3), int64(3), object(1)\n",
      "memory usage: 3.2+ MB\n"
     ]
    }
   ],
   "source": [
    "test.info()"
   ]
  },
  {
   "cell_type": "markdown",
   "id": "91433509",
   "metadata": {},
   "source": [
    "В данных нет пропусков в каких-либо колонках."
   ]
  },
  {
   "cell_type": "markdown",
   "id": "92efed05",
   "metadata": {},
   "source": [
    "Посмотрим, как распределены данные по различным ресторанам:"
   ]
  },
  {
   "cell_type": "code",
   "execution_count": 10,
   "id": "a9155770",
   "metadata": {},
   "outputs": [
    {
     "data": {
      "text/plain": [
       "array([2000, 2000, 2000, 2000, 2000, 2000, 2000, 2000, 2000, 2000, 2000,\n",
       "       2000, 2000, 2000, 2000, 2000, 2000, 2000, 2000, 2000, 2000, 2000,\n",
       "       2000, 2000, 2000, 2000, 2000, 2000, 2000, 2000, 2000, 2000, 2000,\n",
       "       2000, 2000, 2000, 2000, 2000, 2000, 2000, 2000, 2000, 2000, 2000,\n",
       "       2000, 2000, 2000, 2000, 2000, 2000, 2000, 2000, 2000, 1997, 1989,\n",
       "       1963, 1886, 1884, 1710, 1699, 1680, 1629, 1617, 1609, 1603, 1597,\n",
       "       1557, 1476, 1392, 1001,  916,  854,  678,  593,  271,  166,  108,\n",
       "         53,    6,    4], dtype=int64)"
      ]
     },
     "execution_count": 10,
     "metadata": {},
     "output_type": "execute_result"
    }
   ],
   "source": [
    "train['Restaurant'].value_counts().values"
   ]
  },
  {
   "cell_type": "markdown",
   "id": "9a671713",
   "metadata": {},
   "source": [
    "У большинства ресторанов ровно по 2000 записей, но есть и такие, где по 6-4 сэмпла — на этих данных предсказания могут быть менее точными.\n",
    "\n",
    "Данные по городам распределены +- равномерно:"
   ]
  },
  {
   "cell_type": "code",
   "execution_count": 11,
   "id": "4dd34550",
   "metadata": {},
   "outputs": [
    {
     "data": {
      "text/plain": [
       "array([7336, 7248, 7177, 7169, 7157, 7143, 7137, 7100, 7018, 7010, 6926,\n",
       "       6921, 6862, 6855, 6814, 6764, 6510, 6314, 6302, 6175], dtype=int64)"
      ]
     },
     "execution_count": 11,
     "metadata": {},
     "output_type": "execute_result"
    }
   ],
   "source": [
    "train['City'].value_counts().values"
   ]
  },
  {
   "cell_type": "code",
   "execution_count": 12,
   "id": "3760b7b4",
   "metadata": {},
   "outputs": [
    {
     "data": {
      "text/plain": [
       "<AxesSubplot:xlabel='IsHoliday', ylabel='count'>"
      ]
     },
     "execution_count": 12,
     "metadata": {},
     "output_type": "execute_result"
    },
    {
     "data": {
      "image/png": "[encoded data removed]",
      "text/plain": [
       "<Figure size 432x288 with 1 Axes>"
      ]
     },
     "metadata": {
      "needs_background": "light"
     },
     "output_type": "display_data"
    }
   ],
   "source": [
    "sns.countplot(x=train_data['IsHoliday'])"
   ]
  },
  {
   "cell_type": "markdown",
   "id": "cf88bb5a",
   "metadata": {},
   "source": [
    "Значений `IsHoliday = True` не очень много, не уверена, что они будут весомым признаком."
   ]
  },
  {
   "cell_type": "markdown",
   "id": "1b550d63",
   "metadata": {},
   "source": [
    "### Исследуем таргет:"
   ]
  },
  {
   "cell_type": "code",
   "execution_count": 13,
   "id": "44e00176",
   "metadata": {},
   "outputs": [
    {
     "data": {
      "text/plain": [
       "<AxesSubplot:xlabel='Weekly_Sales', ylabel='Count'>"
      ]
     },
     "execution_count": 13,
     "metadata": {},
     "output_type": "execute_result"
    },
    {
     "data": {
      "image/png": "[encoded data removed]",
      "text/plain": [
       "<Figure size 432x288 with 1 Axes>"
      ]
     },
     "metadata": {
      "needs_background": "light"
     },
     "output_type": "display_data"
    }
   ],
   "source": [
    "sns.histplot(x=train['Weekly_Sales'], bins = 30)"
   ]
  },
  {
   "cell_type": "markdown",
   "id": "208eefc1",
   "metadata": {},
   "source": [
    "Здесь мы видим экспоненциальное распределение, что не очень хорошо. На вход алгоритму хотелось бы подавать что-то более нормально распределенное.\n",
    "\n",
    "Можно использовать логарифмирование, но тогда есть проблема с убыточными ресторанами — от их отрицательной выручки логарифм взять нельзя.\n",
    "\n",
    "Можно попробовать прибавить ко всем выручкам в датасете самую минимальную, так они все станут неотрицательными, и еще сразу прибавить малую величину *0.001*, чтобы не брать лог от нуля.\n",
    "\n",
    "Тогда алгоритм тоже будет предсказывать логарифмы выручки, и чтобы привести их в нормальный вид, надо будет проводить обратную операцию. Правда, для обратной операции надо где-то запоминать минимальное значение, которое мы прибавляем. \n",
    "\n",
    "Здесь нас ждет проблема, потому что мы не можем знать минимальное значение у реальных данных — его просто неоткуда взять. Если все-таки предположить, что значение таргета на тестовых данных будут распределены примерно так же, как на тренировочных, то в качестве величины смещения можно взять, например, помноженное на два минимальное значение из тренировочного датасета."
   ]
  },
  {
   "cell_type": "code",
   "execution_count": 14,
   "id": "2f598bcc",
   "metadata": {},
   "outputs": [],
   "source": [
    "offset_train_general = np.abs(train['Weekly_Sales'].min())*2\n",
    "train['sales_log'] = np.log(train['Weekly_Sales'] + offset_train_general + 0.001)\n",
    "# когда будем делить этот датасет на трейн и тест перед обучением, перерассчитаем эту колонку\n",
    "# чтобы искать минимум выручки в трейне и тесте отдельно\n",
    "# иначе получается что-то вроде data leakage)"
   ]
  },
  {
   "cell_type": "code",
   "execution_count": 15,
   "id": "588c2d9e",
   "metadata": {},
   "outputs": [
    {
     "data": {
      "text/plain": [
       "<AxesSubplot:xlabel='sales_log', ylabel='Count'>"
      ]
     },
     "execution_count": 15,
     "metadata": {},
     "output_type": "execute_result"
    },
    {
     "data": {
      "image/png": "[encoded data removed]",
      "text/plain": [
       "<Figure size 432x288 with 1 Axes>"
      ]
     },
     "metadata": {
      "needs_background": "light"
     },
     "output_type": "display_data"
    }
   ],
   "source": [
    "sns.histplot(x=train['sales_log'], bins = 30)"
   ]
  },
  {
   "cell_type": "markdown",
   "id": "9c8de35a",
   "metadata": {},
   "source": [
    "Далеко от идеального нормального распределения, но гораздно больше на него похоже и, возможно, будет восприниматься моделью лучше."
   ]
  },
  {
   "cell_type": "code",
   "execution_count": 16,
   "id": "c472f87c",
   "metadata": {},
   "outputs": [],
   "source": [
    "train.replace({False: 0, True: 1}, inplace=True)\n",
    "\n",
    "# Не было идей, как применить дату\n",
    "train.drop(['Date'],axis=1,inplace=True)"
   ]
  },
  {
   "cell_type": "markdown",
   "id": "80299583",
   "metadata": {},
   "source": [
    "## Обучение"
   ]
  },
  {
   "cell_type": "code",
   "execution_count": 17,
   "id": "a476afa6",
   "metadata": {},
   "outputs": [],
   "source": [
    "from sklearn.model_selection import train_test_split\n",
    "from sklearn.compose import ColumnTransformer\n",
    "from sklearn.preprocessing import StandardScaler, OneHotEncoder\n",
    "from sklearn.pipeline import Pipeline\n",
    "from sklearn.metrics import mean_squared_error\n",
    "import category_encoders as ce\n",
    "\n",
    "from sklearn.ensemble import RandomForestRegressor"
   ]
  },
  {
   "cell_type": "code",
   "execution_count": 18,
   "id": "8ac8c920",
   "metadata": {},
   "outputs": [],
   "source": [
    "features = ['City', 'Restaurant', 'IsHoliday', 'Temperature', 'Fuel_Price', 'Unemployment', 'Size']\n",
    "numeric = ['Temperature', 'Fuel_Price', 'Unemployment', 'Size']\n",
    "categorical = ['City', 'Restaurant']\n",
    "\n",
    "X_train, X_test, y_train, y_test = train_test_split(train[features], train['Weekly_Sales'], test_size=0.3, random_state=42)"
   ]
  },
  {
   "cell_type": "markdown",
   "id": "e8154f03",
   "metadata": {},
   "source": [
    "### Random Forest, без логарифмирования таргета"
   ]
  },
  {
   "cell_type": "code",
   "execution_count": 19,
   "id": "5148effa",
   "metadata": {},
   "outputs": [],
   "source": [
    "rf_regr = RandomForestRegressor(n_estimators=100, bootstrap=True, n_jobs=-1, random_state=42)"
   ]
  },
  {
   "cell_type": "code",
   "execution_count": 20,
   "id": "71e6fcc4",
   "metadata": {},
   "outputs": [
    {
     "data": {
      "text/plain": [
       "0.9160001818236833"
      ]
     },
     "execution_count": 20,
     "metadata": {},
     "output_type": "execute_result"
    }
   ],
   "source": [
    "rf_regr.fit(X_train, y_train)\n",
    "rf_regr.score(X_test, y_test)"
   ]
  },
  {
   "cell_type": "markdown",
   "id": "98e811be",
   "metadata": {},
   "source": [
    "Показатель R2 = *0.916* достаточно хороший. Можно еще попробовать нормализовать числовые признаки, хотя случайный лес и не требует обязательной нормализации данных."
   ]
  },
  {
   "cell_type": "code",
   "execution_count": 21,
   "id": "923ea2aa",
   "metadata": {},
   "outputs": [
    {
     "data": {
      "text/plain": [
       "0.9160533473837329"
      ]
     },
     "execution_count": 21,
     "metadata": {},
     "output_type": "execute_result"
    }
   ],
   "source": [
    "ct_steps = [('num_preprocess', StandardScaler(), numeric)]\n",
    "ct = ColumnTransformer(ct_steps, remainder='passthrough')\n",
    "\n",
    "rf_regr_pipe = Pipeline([('preprocess', ct),\n",
    "                         ('rf', rf_regr)])\n",
    "\n",
    "rf_regr_pipe.fit(X_train, y_train)\n",
    "rf_regr_pipe.score(X_test, y_test)"
   ]
  },
  {
   "cell_type": "markdown",
   "id": "7646aa71",
   "metadata": {},
   "source": [
    "Метрика незначительно увеличилась. \n",
    "\n",
    "Так как признаки `City` и `Restaurant` категориальные и номинальные, возможно, имеет смысл их как-то по иному закодировать.\n",
    "OHE не подойдет, так как это породит 20 колонок из `City` и еще около 100 из `Restaurant`.\n",
    "Попробовала HashingEncoder, ничего не получилось хорошего, попробовала TargerEncoder:"
   ]
  },
  {
   "cell_type": "code",
   "execution_count": 22,
   "id": "e5df215e",
   "metadata": {},
   "outputs": [
    {
     "name": "stderr",
     "output_type": "stream",
     "text": [
      "C:\\Users\\masha\\anaconda3\\lib\\site-packages\\category_encoders\\target_encoder.py:122: FutureWarning: Default parameter min_samples_leaf will change in version 2.6.See https://github.com/scikit-learn-contrib/category_encoders/issues/327\n",
      "  warnings.warn(\"Default parameter min_samples_leaf will change in version 2.6.\"\n",
      "C:\\Users\\masha\\anaconda3\\lib\\site-packages\\category_encoders\\target_encoder.py:127: FutureWarning: Default parameter smoothing will change in version 2.6.See https://github.com/scikit-learn-contrib/category_encoders/issues/327\n",
      "  warnings.warn(\"Default parameter smoothing will change in version 2.6.\"\n",
      "C:\\Users\\masha\\anaconda3\\lib\\site-packages\\category_encoders\\target_encoder.py:122: FutureWarning: Default parameter min_samples_leaf will change in version 2.6.See https://github.com/scikit-learn-contrib/category_encoders/issues/327\n",
      "  warnings.warn(\"Default parameter min_samples_leaf will change in version 2.6.\"\n",
      "C:\\Users\\masha\\anaconda3\\lib\\site-packages\\category_encoders\\target_encoder.py:127: FutureWarning: Default parameter smoothing will change in version 2.6.See https://github.com/scikit-learn-contrib/category_encoders/issues/327\n",
      "  warnings.warn(\"Default parameter smoothing will change in version 2.6.\"\n"
     ]
    },
    {
     "data": {
      "text/plain": [
       "0.9216182333679476"
      ]
     },
     "execution_count": 22,
     "metadata": {},
     "output_type": "execute_result"
    }
   ],
   "source": [
    "ct_steps.append(('cat_preprocess', ce.TargetEncoder(cols=categorical, verbose=0, smoothing=1.0, min_samples_leaf=1), categorical))\n",
    "ct = ColumnTransformer(ct_steps, remainder='passthrough')\n",
    "\n",
    "rf_regr_pipe = Pipeline([('preprocess', ct),\n",
    "                         ('rf', rf_regr)])\n",
    "\n",
    "rf_regr_pipe.fit(X_train, y_train)\n",
    "rf_regr_pipe.score(X_test, y_test)"
   ]
  },
  {
   "cell_type": "markdown",
   "id": "0e057739",
   "metadata": {},
   "source": [
    "(Поставила `verbose=0`, но варнинги все равно выскакивают)\n",
    "\n",
    "Таргет-кодирование увеличило метрику, на нем пока и остановимся.\n",
    "\n",
    "### Добавим логарифмирование таргета"
   ]
  },
  {
   "cell_type": "code",
   "execution_count": 23,
   "id": "0aa61df6",
   "metadata": {},
   "outputs": [],
   "source": [
    "offset_train = np.abs(y_train.min())*2\n",
    "offset_test = np.abs(y_test.min())*2\n",
    "y_train_log = np.log(y_train + offset_train)\n",
    "y_test_log = np.log(y_test + offset_test)"
   ]
  },
  {
   "cell_type": "code",
   "execution_count": 24,
   "id": "ee8f8ebf",
   "metadata": {},
   "outputs": [
    {
     "name": "stderr",
     "output_type": "stream",
     "text": [
      "C:\\Users\\masha\\anaconda3\\lib\\site-packages\\category_encoders\\target_encoder.py:122: FutureWarning: Default parameter min_samples_leaf will change in version 2.6.See https://github.com/scikit-learn-contrib/category_encoders/issues/327\n",
      "  warnings.warn(\"Default parameter min_samples_leaf will change in version 2.6.\"\n",
      "C:\\Users\\masha\\anaconda3\\lib\\site-packages\\category_encoders\\target_encoder.py:127: FutureWarning: Default parameter smoothing will change in version 2.6.See https://github.com/scikit-learn-contrib/category_encoders/issues/327\n",
      "  warnings.warn(\"Default parameter smoothing will change in version 2.6.\"\n"
     ]
    },
    {
     "data": {
      "text/plain": [
       "0.9684179842683683"
      ]
     },
     "execution_count": 24,
     "metadata": {},
     "output_type": "execute_result"
    }
   ],
   "source": [
    "rf_regr_pipe.fit(X_train, y_train_log)\n",
    "rf_regr_pipe.score(X_test, y_test_log)"
   ]
  },
  {
   "cell_type": "markdown",
   "id": "a6e55aa6",
   "metadata": {},
   "source": [
    "Видно, что этот прием значительно повысил метрику.\n",
    "Сравним, какие результаты получились бы с логарифмированием, но без предобработки данных:"
   ]
  },
  {
   "cell_type": "code",
   "execution_count": 25,
   "id": "7990bad3",
   "metadata": {},
   "outputs": [
    {
     "data": {
      "text/plain": [
       "0.9667285141488181"
      ]
     },
     "execution_count": 25,
     "metadata": {},
     "output_type": "execute_result"
    }
   ],
   "source": [
    "rf_regr.fit(X_train, y_train_log)\n",
    "rf_regr.score(X_test, y_test_log)"
   ]
  },
  {
   "cell_type": "markdown",
   "id": "55da24d5",
   "metadata": {},
   "source": [
    "Можно сделать вывод, что предобработка улучшает работу алгоритма, но незначительно.\n",
    "\n",
    "Возможно, еще немного улучшить перфоманс поможет тюнинг гиперпараметров."
   ]
  },
  {
   "cell_type": "code",
   "execution_count": 26,
   "id": "c35af815",
   "metadata": {},
   "outputs": [],
   "source": [
    "from sklearn.model_selection import GridSearchCV"
   ]
  },
  {
   "cell_type": "code",
   "execution_count": 27,
   "id": "898aa355",
   "metadata": {},
   "outputs": [
    {
     "name": "stderr",
     "output_type": "stream",
     "text": [
      "C:\\Users\\masha\\anaconda3\\lib\\site-packages\\category_encoders\\target_encoder.py:122: FutureWarning: Default parameter min_samples_leaf will change in version 2.6.See https://github.com/scikit-learn-contrib/category_encoders/issues/327\n",
      "  warnings.warn(\"Default parameter min_samples_leaf will change in version 2.6.\"\n",
      "C:\\Users\\masha\\anaconda3\\lib\\site-packages\\category_encoders\\target_encoder.py:127: FutureWarning: Default parameter smoothing will change in version 2.6.See https://github.com/scikit-learn-contrib/category_encoders/issues/327\n",
      "  warnings.warn(\"Default parameter smoothing will change in version 2.6.\"\n"
     ]
    },
    {
     "data": {
      "text/plain": [
       "{'max_depth': None, 'max_features': 0.8, 'n_estimators': 150}"
      ]
     },
     "execution_count": 27,
     "metadata": {},
     "output_type": "execute_result"
    }
   ],
   "source": [
    "rf_params = {'n_estimators':[20, 50, 100, 150], \n",
    "             'max_depth':[None, 3, 6, 10],\n",
    "             'max_features': ['sqrt', 'log2', None, 0.5, 0.8]}\n",
    "\n",
    "ct.fit_transform(X_train, y_train_log)\n",
    "model = RandomForestRegressor()\n",
    "grid_search = GridSearchCV(model, rf_params)\n",
    "grid_search.fit(X_train, y_train_log)\n",
    "\n",
    "grid_search.best_params_"
   ]
  },
  {
   "cell_type": "code",
   "execution_count": 28,
   "id": "ec168d37",
   "metadata": {},
   "outputs": [
    {
     "name": "stderr",
     "output_type": "stream",
     "text": [
      "C:\\Users\\masha\\anaconda3\\lib\\site-packages\\category_encoders\\target_encoder.py:122: FutureWarning: Default parameter min_samples_leaf will change in version 2.6.See https://github.com/scikit-learn-contrib/category_encoders/issues/327\n",
      "  warnings.warn(\"Default parameter min_samples_leaf will change in version 2.6.\"\n",
      "C:\\Users\\masha\\anaconda3\\lib\\site-packages\\category_encoders\\target_encoder.py:127: FutureWarning: Default parameter smoothing will change in version 2.6.See https://github.com/scikit-learn-contrib/category_encoders/issues/327\n",
      "  warnings.warn(\"Default parameter smoothing will change in version 2.6.\"\n"
     ]
    },
    {
     "data": {
      "text/plain": [
       "0.9682046494886805"
      ]
     },
     "execution_count": 28,
     "metadata": {},
     "output_type": "execute_result"
    }
   ],
   "source": [
    "rf_regr_pipe = Pipeline([('preprocess', ct),\n",
    "                         ('rf', RandomForestRegressor(n_estimators=100, max_depth=None, max_features=0.8, random_state=42))])\n",
    "\n",
    "rf_regr_pipe.fit(X_train, y_train_log)\n",
    "rf_regr_pipe.score(X_test, y_test_log)"
   ]
  },
  {
   "cell_type": "markdown",
   "id": "2f039c31",
   "metadata": {},
   "source": [
    "## Попробуем еще градиентный бустинг"
   ]
  },
  {
   "cell_type": "code",
   "execution_count": 29,
   "id": "963a3f7f",
   "metadata": {},
   "outputs": [],
   "source": [
    "from xgboost import XGBRegressor"
   ]
  },
  {
   "cell_type": "code",
   "execution_count": 30,
   "id": "22d81e90",
   "metadata": {},
   "outputs": [
    {
     "name": "stderr",
     "output_type": "stream",
     "text": [
      "C:\\Users\\masha\\anaconda3\\lib\\site-packages\\category_encoders\\target_encoder.py:122: FutureWarning: Default parameter min_samples_leaf will change in version 2.6.See https://github.com/scikit-learn-contrib/category_encoders/issues/327\n",
      "  warnings.warn(\"Default parameter min_samples_leaf will change in version 2.6.\"\n",
      "C:\\Users\\masha\\anaconda3\\lib\\site-packages\\category_encoders\\target_encoder.py:127: FutureWarning: Default parameter smoothing will change in version 2.6.See https://github.com/scikit-learn-contrib/category_encoders/issues/327\n",
      "  warnings.warn(\"Default parameter smoothing will change in version 2.6.\"\n"
     ]
    },
    {
     "data": {
      "text/plain": [
       "0.9405247509260278"
      ]
     },
     "execution_count": 30,
     "metadata": {},
     "output_type": "execute_result"
    }
   ],
   "source": [
    "xgb_regr_pipe = Pipeline([('preprocess', ct),\n",
    "                         ('xgbr', XGBRegressor(random_state=42, n_jobs=-1))])\n",
    "\n",
    "xgb_regr_pipe.fit(X_train, y_train_log)\n",
    "xgb_regr_pipe.score(X_test, y_test_log)"
   ]
  },
  {
   "cell_type": "markdown",
   "id": "9d42d5d2",
   "metadata": {},
   "source": [
    "XGBRegressor предсказывает немного хуже, чем случайный лес.\n",
    "\n",
    "Без предварительной обработки данных бустинг дает результат чуть лучше:"
   ]
  },
  {
   "cell_type": "code",
   "execution_count": 31,
   "id": "c6ad68d9",
   "metadata": {},
   "outputs": [
    {
     "data": {
      "text/plain": [
       "0.9486026344977855"
      ]
     },
     "execution_count": 31,
     "metadata": {},
     "output_type": "execute_result"
    }
   ],
   "source": [
    "xgb_regr = XGBRegressor(random_state=42, n_jobs=-1)\n",
    "xgb_regr.fit(X_train, y_train_log)\n",
    "\n",
    "xgb_regr.score(X_test, y_test_log)"
   ]
  },
  {
   "cell_type": "markdown",
   "id": "d0bcf354",
   "metadata": {},
   "source": [
    "## Заполнение test.csv"
   ]
  },
  {
   "cell_type": "code",
   "execution_count": 32,
   "id": "f68f8cb8",
   "metadata": {},
   "outputs": [
    {
     "data": {
      "text/plain": [
       "<AxesSubplot:ylabel='Count'>"
      ]
     },
     "execution_count": 32,
     "metadata": {},
     "output_type": "execute_result"
    },
    {
     "data": {
      "image/png": "[encoded data removed]",
      "text/plain": [
       "<Figure size 432x288 with 1 Axes>"
      ]
     },
     "metadata": {
      "needs_background": "light"
     },
     "output_type": "display_data"
    }
   ],
   "source": [
    "test.replace({False: 0, True: 1}, inplace=True)\n",
    "test.drop(['Date'],axis=1,inplace=True)\n",
    "\n",
    "y_test_log = rf_regr_pipe.predict(test[features])\n",
    "sns.histplot(y_test_log, bins=30)"
   ]
  },
  {
   "cell_type": "code",
   "execution_count": 33,
   "id": "2e90ff31",
   "metadata": {},
   "outputs": [
    {
     "data": {
      "text/plain": [
       "<AxesSubplot:ylabel='Count'>"
      ]
     },
     "execution_count": 33,
     "metadata": {},
     "output_type": "execute_result"
    },
    {
     "data": {
      "image/png": "[encoded data removed]",
      "text/plain": [
       "<Figure size 432x288 with 1 Axes>"
      ]
     },
     "metadata": {
      "needs_background": "light"
     },
     "output_type": "display_data"
    }
   ],
   "source": [
    "y_test_transformed = np.exp(y_test_log) - offset_train_general\n",
    "sns.histplot(y_test_transformed, bins=30)"
   ]
  },
  {
   "cell_type": "markdown",
   "id": "00f91324",
   "metadata": {},
   "source": [
    "Мы видим, что распределение предсказанного таргета повторяет распределение на тренировочных данных. Осталось дополнить этой колонкой датасет."
   ]
  },
  {
   "cell_type": "code",
   "execution_count": 34,
   "id": "98338103",
   "metadata": {},
   "outputs": [],
   "source": [
    "test_data['Weekly_Sales'] = np.round(y_test_transformed,2)\n",
    "test_data.to_csv('test_with_predictions.csv', header=True, index=False)"
   ]
  },
  {
   "cell_type": "markdown",
   "id": "9524e74f",
   "metadata": {},
   "source": [
    "## Почему не рассматривались линейные модели?"
   ]
  },
  {
   "cell_type": "markdown",
   "id": "729fb4f4",
   "metadata": {},
   "source": [
    "У числовых признаков не наблюдается значительной линейной зависимости с таргетом (как изначальным, так и логарифмированным)."
   ]
  },
  {
   "cell_type": "code",
   "execution_count": 35,
   "id": "32003d23",
   "metadata": {},
   "outputs": [
    {
     "data": {
      "text/plain": [
       "<AxesSubplot:>"
      ]
     },
     "execution_count": 35,
     "metadata": {},
     "output_type": "execute_result"
    },
    {
     "data": {
      "image/png": "[encoded data removed]",
      "text/plain": [
       "<Figure size 432x288 with 2 Axes>"
      ]
     },
     "metadata": {
      "needs_background": "light"
     },
     "output_type": "display_data"
    }
   ],
   "source": [
    "numeric = ['Weekly_Sales','sales_log','Temperature','Fuel_Price', 'Unemployment', 'Size']\n",
    "sns.heatmap(train[numeric].corr(method='pearson'))"
   ]
  },
  {
   "cell_type": "markdown",
   "id": "50f9e885",
   "metadata": {},
   "source": [
    "## Выводы"
   ]
  },
  {
   "cell_type": "markdown",
   "id": "d46aff5a",
   "metadata": {},
   "source": [
    "Было проведено исследование данных. Самым интересным наблюдением стало распределение таргета)\n",
    "\n",
    "Немного за кадром прошла оценка целесообразности использования линейных моделей (выше объяснила, почему я их не выбрала) (на всякий случай я попробовала некоторые модели SVM для регресии, но результаты у них были значительно хуже, так что решила даже не включать это в репорт).\n",
    "\n",
    "Следующими проверяла работу случайного леса и градиентого бустинга, первый алгоритм дал метрику повыше, но и бустинг, думаю, можно было бы потюнить и немного повысить.\n",
    "\n",
    "На данных, отложенных для тестирования модели, наивысший достиженный `R2` был *0.968*."
   ]
  },
  {
   "cell_type": "code",
   "execution_count": null,
   "id": "8c45a473",
   "metadata": {},
   "outputs": [],
   "source": []
  }
 ],
 "metadata": {
  "kernelspec": {
   "display_name": "Python 3",
   "language": "python",
   "name": "python3"
  },
  "language_info": {
   "codemirror_mode": {
    "name": "ipython",
    "version": 3
   },
   "file_extension": ".py",
   "mimetype": "text/x-python",
   "name": "python",
   "nbconvert_exporter": "python",
   "pygments_lexer": "ipython3",
   "version": "3.8.8"
  }
 },
 "nbformat": 4,
 "nbformat_minor": 5
}
